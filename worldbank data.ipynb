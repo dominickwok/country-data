{
 "cells": [
  {
   "cell_type": "markdown",
   "metadata": {},
   "source": [
    "# world bank country data"
   ]
  },
  {
   "cell_type": "markdown",
   "metadata": {},
   "source": [
    "This is a file to download relevant data from worldbank. This should be run using docker image from `dkwok/python-workspace` for preinstalled packages (depends on `kaggle/python` image)"
   ]
  },
  {
   "cell_type": "markdown",
   "metadata": {},
   "source": [
    "## setup"
   ]
  },
  {
   "cell_type": "markdown",
   "metadata": {},
   "source": [
    "Import relevant packages and some helper functions"
   ]
  },
  {
   "cell_type": "code",
   "execution_count": 175,
   "metadata": {
    "collapsed": false
   },
   "outputs": [],
   "source": [
    "import requests\n",
    "import pprint\n",
    "import pandas as pd\n",
    "import wbdata\n",
    "import matplotlib.pyplot as plt\n",
    "import numpy as np"
   ]
  },
  {
   "cell_type": "code",
   "execution_count": 44,
   "metadata": {
    "collapsed": true
   },
   "outputs": [],
   "source": [
    "pp = pprint.PrettyPrinter(indent=4)"
   ]
  },
  {
   "cell_type": "markdown",
   "metadata": {},
   "source": [
    "## query "
   ]
  },
  {
   "cell_type": "markdown",
   "metadata": {},
   "source": [
    "use the `wbdata` python package to query the worldbank API"
   ]
  },
  {
   "cell_type": "code",
   "execution_count": 78,
   "metadata": {
    "collapsed": true
   },
   "outputs": [],
   "source": [
    "countries = [\"AR\",\"BR\",\"CO\",\"CL\",\"MX\",\"PE\"]"
   ]
  },
  {
   "cell_type": "code",
   "execution_count": 10,
   "metadata": {
    "collapsed": false
   },
   "outputs": [],
   "source": [
    "indicators = {\n",
    "    'NY.GNP.PCAP.CD':'gni_per_capita',\n",
    "    'NY.GDP.MKTP.CD':'gdp',\n",
    "    'SP.POP.TOTL':'pop',\n",
    "    'SP.URB.TOTL':'pop_urban',\n",
    "    'SP.POP.0014.TO.ZS':'pop_0-14',\n",
    "    'SP.POP.1564.TO.ZS':'pop_15-64',\n",
    "    'SP.POP.65UP.TO.ZS':'pop_65+',\n",
    "    'SL.TLF.TOTL.IN':'labor_force',\n",
    "    'SH.DYN.MORT':'mortality_rate',\n",
    "    'IT.NET.USER.P2': 'internet_user_per_100_people',\n",
    "    'IT.NET.BBND': 'fixed_broadband_subs',\n",
    "    'IT.CEL.SETS': 'cellular_mobile_subs'\n",
    "}"
   ]
  },
  {
   "cell_type": "code",
   "execution_count": 11,
   "metadata": {
    "collapsed": false
   },
   "outputs": [],
   "source": [
    "df = wbdata.get_dataframe(\n",
    "            indicators,\n",
    "            country=\"all\",\n",
    "            convert_date=True,\n",
    "            keep_levels=True)"
   ]
  },
  {
   "cell_type": "code",
   "execution_count": 12,
   "metadata": {
    "collapsed": false
   },
   "outputs": [],
   "source": [
    "dfu = df.reset_index()"
   ]
  },
  {
   "cell_type": "code",
   "execution_count": 105,
   "metadata": {
    "collapsed": false
   },
   "outputs": [
    {
     "name": "stdout",
     "output_type": "stream",
     "text": [
      "        country       date  cellular_mobile_subs  fixed_broadband_subs  \\\n",
      "14779  Zimbabwe 1964-01-01                   NaN                   NaN   \n",
      "14780  Zimbabwe 1963-01-01                   NaN                   NaN   \n",
      "14781  Zimbabwe 1962-01-01                   NaN                   NaN   \n",
      "14782  Zimbabwe 1961-01-01                   NaN                   NaN   \n",
      "14783  Zimbabwe 1960-01-01                   0.0                   NaN   \n",
      "\n",
      "                gdp  gni_per_capita  internet_user_per_100_people  \\\n",
      "14779  1.217138e+09           260.0                           NaN   \n",
      "14780  1.159512e+09           280.0                           NaN   \n",
      "14781  1.117602e+09           270.0                           NaN   \n",
      "14782  1.096647e+09             NaN                           NaN   \n",
      "14783  1.052990e+09             NaN                           NaN   \n",
      "\n",
      "       labor_force  mortality_rate        pop   pop_0-14  pop_15-64   pop_65+  \\\n",
      "14779          NaN           132.8  4279561.0  47.465383  49.214955  3.319663   \n",
      "14780          NaN           137.2  4140804.0  46.949844  49.707835  3.342322   \n",
      "14781          NaN           141.6  4006262.0  46.282395  50.354695  3.362910   \n",
      "14782          NaN           146.1  3876638.0  45.672565  50.955570  3.371865   \n",
      "14783          NaN           150.7  3752390.0  45.263845  51.373658  3.362497   \n",
      "\n",
      "       pop_urban  \n",
      "14779   603076.0  \n",
      "14780   562238.0  \n",
      "14781   524099.0  \n",
      "14782   497024.0  \n",
      "14783   473101.0  \n"
     ]
    }
   ],
   "source": [
    "print(dfu.tail())"
   ]
  },
  {
   "cell_type": "markdown",
   "metadata": {},
   "source": [
    "## prepare the data"
   ]
  },
  {
   "cell_type": "markdown",
   "metadata": {},
   "source": [
    "For now, because the WB data is not completely reliable, let's prepare the data such that we have the ISO2 code for countries, and also take the most recent data point available for each country"
   ]
  },
  {
   "cell_type": "markdown",
   "metadata": {},
   "source": [
    "### country iso2 code mapping "
   ]
  },
  {
   "cell_type": "code",
   "execution_count": 110,
   "metadata": {
    "collapsed": true
   },
   "outputs": [],
   "source": [
    "countries = wbdata.get_country(display=False)"
   ]
  },
  {
   "cell_type": "code",
   "execution_count": 111,
   "metadata": {
    "collapsed": false
   },
   "outputs": [],
   "source": [
    "d = dict((x['name'].strip(), x['iso2Code']) for x in countries)"
   ]
  },
  {
   "cell_type": "code",
   "execution_count": 112,
   "metadata": {
    "collapsed": true
   },
   "outputs": [
    {
     "name": "stdout",
     "output_type": "stream",
     "text": [
      "{   'Afghanistan': 'AF',\n",
      "    'Africa': 'A9',\n",
      "    'Albania': 'AL',\n",
      "    'Algeria': 'DZ',\n",
      "    'American Samoa': 'AS',\n",
      "    'Andean Region': 'L5',\n",
      "    'Andorra': 'AD',\n",
      "    'Angola': 'AO',\n",
      "    'Antigua and Barbuda': 'AG',\n",
      "    'Arab World': '1A',\n",
      "    'Argentina': 'AR',\n",
      "    'Armenia': 'AM',\n",
      "    'Aruba': 'AW',\n",
      "    'Australia': 'AU',\n",
      "    'Austria': 'AT',\n",
      "    'Azerbaijan': 'AZ',\n",
      "    'Bahamas, The': 'BS',\n",
      "    'Bahrain': 'BH',\n",
      "    'Bangladesh': 'BD',\n",
      "    'Barbados': 'BB',\n",
      "    'Belarus': 'BY',\n",
      "    'Belgium': 'BE',\n",
      "    'Belize': 'BZ',\n",
      "    'Benin': 'BJ',\n",
      "    'Bermuda': 'BM',\n",
      "    'Bhutan': 'BT',\n",
      "    'Bolivia': 'BO',\n",
      "    'Bosnia and Herzegovina': 'BA',\n",
      "    'Botswana': 'BW',\n",
      "    'Brazil': 'BR',\n",
      "    'British Virgin Islands': 'VG',\n",
      "    'Brunei Darussalam': 'BN',\n",
      "    'Bulgaria': 'BG',\n",
      "    'Burkina Faso': 'BF',\n",
      "    'Burundi': 'BI',\n",
      "    'Cabo Verde': 'CV',\n",
      "    'Cambodia': 'KH',\n",
      "    'Cameroon': 'CM',\n",
      "    'Canada': 'CA',\n",
      "    'Caribbean small states': 'S3',\n",
      "    'Cayman Islands': 'KY',\n",
      "    'Central African Republic': 'CF',\n",
      "    'Central America': 'L6',\n",
      "    'Central Europe and the Baltics': 'B8',\n",
      "    'Chad': 'TD',\n",
      "    'Channel Islands': 'JG',\n",
      "    'Chile': 'CL',\n",
      "    'China': 'CN',\n",
      "    'Colombia': 'CO',\n",
      "    'Comoros': 'KM',\n",
      "    'Congo, Dem. Rep.': 'CD',\n",
      "    'Congo, Rep.': 'CG',\n",
      "    'Costa Rica': 'CR',\n",
      "    \"Cote d'Ivoire\": 'CI',\n",
      "    'Croatia': 'HR',\n",
      "    'Cuba': 'CU',\n",
      "    'Curacao': 'CW',\n",
      "    'Cyprus': 'CY',\n",
      "    'Czech Republic': 'CZ',\n",
      "    'Denmark': 'DK',\n",
      "    'Djibouti': 'DJ',\n",
      "    'Dominica': 'DM',\n",
      "    'Dominican Republic': 'DO',\n",
      "    'Early-demographic dividend': 'V2',\n",
      "    'East Asia & Pacific': 'Z4',\n",
      "    'East Asia & Pacific (IBRD-only countries)': 'B4',\n",
      "    'East Asia & Pacific (IDA & IBRD countries)': 'T4',\n",
      "    'East Asia & Pacific (IDA-eligible countries)': 'D4',\n",
      "    'East Asia & Pacific (excluding high income)': '4E',\n",
      "    'East Asia and the Pacific (IFC classification)': 'C4',\n",
      "    'Ecuador': 'EC',\n",
      "    'Egypt, Arab Rep.': 'EG',\n",
      "    'El Salvador': 'SV',\n",
      "    'Equatorial Guinea': 'GQ',\n",
      "    'Eritrea': 'ER',\n",
      "    'Estonia': 'EE',\n",
      "    'Ethiopia': 'ET',\n",
      "    'Euro area': 'XC',\n",
      "    'Europe & Central Asia': 'Z7',\n",
      "    'Europe & Central Asia (IBRD-only countries)': 'B7',\n",
      "    'Europe & Central Asia (IDA & IBRD countries)': 'T7',\n",
      "    'Europe & Central Asia (IDA-eligible countries)': 'D7',\n",
      "    'Europe & Central Asia (excluding high income)': '7E',\n",
      "    'Europe and Central Asia (IFC classification)': 'C5',\n",
      "    'European Union': 'EU',\n",
      "    'Faroe Islands': 'FO',\n",
      "    'Fiji': 'FJ',\n",
      "    'Finland': 'FI',\n",
      "    'Fragile and conflict affected situations': 'F1',\n",
      "    'France': 'FR',\n",
      "    'French Polynesia': 'PF',\n",
      "    'Gabon': 'GA',\n",
      "    'Gambia, The': 'GM',\n",
      "    'Georgia': 'GE',\n",
      "    'Germany': 'DE',\n",
      "    'Ghana': 'GH',\n",
      "    'Gibraltar': 'GI',\n",
      "    'Greece': 'GR',\n",
      "    'Greenland': 'GL',\n",
      "    'Grenada': 'GD',\n",
      "    'Guam': 'GU',\n",
      "    'Guatemala': 'GT',\n",
      "    'Guinea': 'GN',\n",
      "    'Guinea-Bissau': 'GW',\n",
      "    'Guyana': 'GY',\n",
      "    'Haiti': 'HT',\n",
      "    'Heavily indebted poor countries (HIPC)': 'XE',\n",
      "    'High income': 'XD',\n",
      "    'Honduras': 'HN',\n",
      "    'Hong Kong SAR, China': 'HK',\n",
      "    'Hungary': 'HU',\n",
      "    'IBRD countries classified as high income': 'B1',\n",
      "    'IBRD only': 'XF',\n",
      "    'IBRD, including blend': 'ZB',\n",
      "    'IDA & IBRD total': 'ZT',\n",
      "    'IDA blend': 'XH',\n",
      "    'IDA countries classified as Fragile Situations': 'D8',\n",
      "    'IDA countries classified as fragile situations, excluding Sub-Saharan Africa': '6F',\n",
      "    'IDA countries in Sub-Saharan Africa classified as fragile situations': 'F6',\n",
      "    'IDA countries in Sub-Saharan Africa not classified as fragile situations': 'N6',\n",
      "    'IDA countries not classified as Fragile Situations': 'D9',\n",
      "    'IDA countries not classified as fragile situations, excluding Sub-Saharan Africa': '6N',\n",
      "    'IDA only': 'XI',\n",
      "    'IDA total': 'XG',\n",
      "    'IDA total, excluding Sub-Saharan Africa': '6D',\n",
      "    'Iceland': 'IS',\n",
      "    'India': 'IN',\n",
      "    'Indonesia': 'ID',\n",
      "    'Iran, Islamic Rep.': 'IR',\n",
      "    'Iraq': 'IQ',\n",
      "    'Ireland': 'IE',\n",
      "    'Isle of Man': 'IM',\n",
      "    'Israel': 'IL',\n",
      "    'Italy': 'IT',\n",
      "    'Jamaica': 'JM',\n",
      "    'Japan': 'JP',\n",
      "    'Jordan': 'JO',\n",
      "    'Kazakhstan': 'KZ',\n",
      "    'Kenya': 'KE',\n",
      "    'Kiribati': 'KI',\n",
      "    'Korea, Dem. People���s Rep.': 'KP',\n",
      "    'Korea, Rep.': 'KR',\n",
      "    'Kosovo': 'XK',\n",
      "    'Kuwait': 'KW',\n",
      "    'Kyrgyz Republic': 'KG',\n",
      "    'Lao PDR': 'LA',\n",
      "    'Late-demographic dividend': 'V3',\n",
      "    'Latin America & Caribbean': 'ZJ',\n",
      "    'Latin America & Caribbean (excluding high income)': 'XJ',\n",
      "    'Latin America & the Caribbean (IBRD-only countries)': 'B2',\n",
      "    'Latin America & the Caribbean (IDA & IBRD countries)': 'T2',\n",
      "    'Latin America & the Caribbean (IDA-eligible countries)': 'D2',\n",
      "    'Latin America and the Caribbean': 'L4',\n",
      "    'Latin America and the Caribbean (IFC classification)': 'C6',\n",
      "    'Latvia': 'LV',\n",
      "    'Least developed countries: UN classification': 'XL',\n",
      "    'Lebanon': 'LB',\n",
      "    'Lesotho': 'LS',\n",
      "    'Liberia': 'LR',\n",
      "    'Libya': 'LY',\n",
      "    'Liechtenstein': 'LI',\n",
      "    'Lithuania': 'LT',\n",
      "    'Low & middle income': 'XO',\n",
      "    'Low income': 'XM',\n",
      "    'Lower middle income': 'XN',\n",
      "    'Luxembourg': 'LU',\n",
      "    'Macao SAR, China': 'MO',\n",
      "    'Macedonia, FYR': 'MK',\n",
      "    'Madagascar': 'MG',\n",
      "    'Malawi': 'MW',\n",
      "    'Malaysia': 'MY',\n",
      "    'Maldives': 'MV',\n",
      "    'Mali': 'ML',\n",
      "    'Malta': 'MT',\n",
      "    'Marshall Islands': 'MH',\n",
      "    'Mauritania': 'MR',\n",
      "    'Mauritius': 'MU',\n",
      "    'Mexico': 'MX',\n",
      "    'Micronesia, Fed. Sts.': 'FM',\n",
      "    'Middle East & North Africa': 'ZQ',\n",
      "    'Middle East & North Africa (IBRD-only countries)': 'B3',\n",
      "    'Middle East & North Africa (IDA & IBRD countries)': 'T3',\n",
      "    'Middle East & North Africa (IDA-eligible countries)': 'D3',\n",
      "    'Middle East & North Africa (excluding high income)': 'XQ',\n",
      "    'Middle East (developing only)': 'M1',\n",
      "    'Middle East and North Africa (IFC classification)': 'C7',\n",
      "    'Middle income': 'XP',\n",
      "    'Moldova': 'MD',\n",
      "    'Monaco': 'MC',\n",
      "    'Mongolia': 'MN',\n",
      "    'Montenegro': 'ME',\n",
      "    'Morocco': 'MA',\n",
      "    'Mozambique': 'MZ',\n",
      "    'Myanmar': 'MM',\n",
      "    'Namibia': 'NA',\n",
      "    'Nauru': 'NR',\n",
      "    'Nepal': 'NP',\n",
      "    'Netherlands': 'NL',\n",
      "    'New Caledonia': 'NC',\n",
      "    'New Zealand': 'NZ',\n",
      "    'Nicaragua': 'NI',\n",
      "    'Niger': 'NE',\n",
      "    'Nigeria': 'NG',\n",
      "    'Non-resource rich Sub-Saharan Africa countries': '6X',\n",
      "    'Non-resource rich Sub-Saharan Africa countries, of which landlocked': '6L',\n",
      "    'North Africa': 'M2',\n",
      "    'North America': 'XU',\n",
      "    'Northern Mariana Islands': 'MP',\n",
      "    'Norway': 'NO',\n",
      "    'Not classified': 'XY',\n",
      "    'OECD members': 'OE',\n",
      "    'Oman': 'OM',\n",
      "    'Other small states': 'S4',\n",
      "    'Pacific island small states': 'S2',\n",
      "    'Pakistan': 'PK',\n",
      "    'Palau': 'PW',\n",
      "    'Panama': 'PA',\n",
      "    'Papua New Guinea': 'PG',\n",
      "    'Paraguay': 'PY',\n",
      "    'Peru': 'PE',\n",
      "    'Philippines': 'PH',\n",
      "    'Poland': 'PL',\n",
      "    'Portugal': 'PT',\n",
      "    'Post-demographic dividend': 'V4',\n",
      "    'Pre-demographic dividend': 'V1',\n",
      "    'Puerto Rico': 'PR',\n",
      "    'Qatar': 'QA',\n",
      "    'Resource rich Sub-Saharan Africa countries': 'R6',\n",
      "    'Resource rich Sub-Saharan Africa countries, of which oil exporters': 'O6',\n",
      "    'Romania': 'RO',\n",
      "    'Russian Federation': 'RU',\n",
      "    'Rwanda': 'RW',\n",
      "    'Samoa': 'WS',\n",
      "    'San Marino': 'SM',\n",
      "    'Sao Tome and Principe': 'ST',\n",
      "    'Saudi Arabia': 'SA',\n",
      "    'Senegal': 'SN',\n",
      "    'Serbia': 'RS',\n",
      "    'Seychelles': 'SC',\n",
      "    'Sierra Leone': 'SL',\n",
      "    'Singapore': 'SG',\n",
      "    'Sint Maarten (Dutch part)': 'SX',\n",
      "    'Slovak Republic': 'SK',\n",
      "    'Slovenia': 'SI',\n",
      "    'Small states': 'S1',\n",
      "    'Solomon Islands': 'SB',\n",
      "    'Somalia': 'SO',\n",
      "    'South Africa': 'ZA',\n",
      "    'South Asia': '8S',\n",
      "    'South Asia (IDA & IBRD)': 'T5',\n",
      "    'South Asia (IDA-eligible countries)': 'D5',\n",
      "    'South Asia (IFC classification)': 'C8',\n",
      "    'South Sudan': 'SS',\n",
      "    'Southern Cone': 'L7',\n",
      "    'Spain': 'ES',\n",
      "    'Sri Lanka': 'LK',\n",
      "    'St. Kitts and Nevis': 'KN',\n",
      "    'St. Lucia': 'LC',\n",
      "    'St. Martin (French part)': 'MF',\n",
      "    'St. Vincent and the Grenadines': 'VC',\n",
      "    'Sub-Saharan Africa': 'ZG',\n",
      "    'Sub-Saharan Africa (IBRD-only countries)': 'B6',\n",
      "    'Sub-Saharan Africa (IDA & IBRD countries)': 'T6',\n",
      "    'Sub-Saharan Africa (IDA-eligible countries)': 'D6',\n",
      "    'Sub-Saharan Africa (IFC classification)': 'C9',\n",
      "    'Sub-Saharan Africa (excluding high income)': 'ZF',\n",
      "    'Sub-Saharan Africa excluding South Africa': 'A4',\n",
      "    'Sub-Saharan Africa excluding South Africa and Nigeria': 'A5',\n",
      "    'Sudan': 'SD',\n",
      "    'Suriname': 'SR',\n",
      "    'Swaziland': 'SZ',\n",
      "    'Sweden': 'SE',\n",
      "    'Switzerland': 'CH',\n",
      "    'Syrian Arab Republic': 'SY',\n",
      "    'Taiwan, China': 'TW',\n",
      "    'Tajikistan': 'TJ',\n",
      "    'Tanzania': 'TZ',\n",
      "    'Thailand': 'TH',\n",
      "    'Timor-Leste': 'TL',\n",
      "    'Togo': 'TG',\n",
      "    'Tonga': 'TO',\n",
      "    'Trinidad and Tobago': 'TT',\n",
      "    'Tunisia': 'TN',\n",
      "    'Turkey': 'TR',\n",
      "    'Turkmenistan': 'TM',\n",
      "    'Turks and Caicos Islands': 'TC',\n",
      "    'Tuvalu': 'TV',\n",
      "    'Uganda': 'UG',\n",
      "    'Ukraine': 'UA',\n",
      "    'United Arab Emirates': 'AE',\n",
      "    'United Kingdom': 'GB',\n",
      "    'United States': 'US',\n",
      "    'Upper middle income': 'XT',\n",
      "    'Uruguay': 'UY',\n",
      "    'Uzbekistan': 'UZ',\n",
      "    'Vanuatu': 'VU',\n",
      "    'Venezuela, RB': 'VE',\n",
      "    'Vietnam': 'VN',\n",
      "    'Virgin Islands (U.S.)': 'VI',\n",
      "    'West Bank and Gaza': 'PS',\n",
      "    'World': '1W',\n",
      "    'Yemen, Rep.': 'YE',\n",
      "    'Zambia': 'ZM',\n",
      "    'Zimbabwe': 'ZW'}\n"
     ]
    }
   ],
   "source": [
    "pp.pprint(d)"
   ]
  },
  {
   "cell_type": "code",
   "execution_count": 113,
   "metadata": {
    "collapsed": false
   },
   "outputs": [],
   "source": [
    "dfu2 = dfu.assign(iso_code= dfu.country.map(lambda x: d[x]))"
   ]
  },
  {
   "cell_type": "markdown",
   "metadata": {},
   "source": [
    "### sort columns"
   ]
  },
  {
   "cell_type": "code",
   "execution_count": 126,
   "metadata": {
    "collapsed": true
   },
   "outputs": [],
   "source": [
    "cols = dfu2.columns.tolist()"
   ]
  },
  {
   "cell_type": "code",
   "execution_count": 127,
   "metadata": {
    "collapsed": false
   },
   "outputs": [],
   "source": [
    "cols = cols[-1:] + cols[:-1]"
   ]
  },
  {
   "cell_type": "code",
   "execution_count": 129,
   "metadata": {
    "collapsed": false
   },
   "outputs": [],
   "source": [
    "dfu3 = dfu4[cols]"
   ]
  },
  {
   "cell_type": "markdown",
   "metadata": {},
   "source": [
    "### fill NaNs with most recently available data"
   ]
  },
  {
   "cell_type": "code",
   "execution_count": 144,
   "metadata": {
    "collapsed": false
   },
   "outputs": [],
   "source": [
    "dfu4 = dfu3.fillna(method='bfill')"
   ]
  },
  {
   "cell_type": "markdown",
   "metadata": {},
   "source": [
    "### take most recent value "
   ]
  },
  {
   "cell_type": "code",
   "execution_count": 145,
   "metadata": {
    "collapsed": false
   },
   "outputs": [],
   "source": [
    "max_date = max(dfu4.date.unique())"
   ]
  },
  {
   "cell_type": "code",
   "execution_count": 146,
   "metadata": {
    "collapsed": false
   },
   "outputs": [
    {
     "data": {
      "text/plain": [
       "numpy.datetime64('2015-01-01T00:00:00.000000000')"
      ]
     },
     "execution_count": 146,
     "metadata": {},
     "output_type": "execute_result"
    }
   ],
   "source": [
    "max_date"
   ]
  },
  {
   "cell_type": "code",
   "execution_count": 150,
   "metadata": {
    "collapsed": true
   },
   "outputs": [],
   "source": [
    "dfu5 = dfu4[dfu4.date==max_date].reset_index()"
   ]
  },
  {
   "cell_type": "code",
   "execution_count": 165,
   "metadata": {
    "collapsed": true
   },
   "outputs": [
    {
     "name": "stdout",
     "output_type": "stream",
     "text": [
      "(264, 16)\n",
      "   index iso_code                         country       date  \\\n",
      "0      0       1A                      Arab World 2015-01-01   \n",
      "1     56       S3          Caribbean small states 2015-01-01   \n",
      "2    112       B8  Central Europe and the Baltics 2015-01-01   \n",
      "3    168       V2      Early-demographic dividend 2015-01-01   \n",
      "4    224       Z4             East Asia & Pacific 2015-01-01   \n",
      "\n",
      "   cellular_mobile_subs  fixed_broadband_subs           gdp  gni_per_capita  \\\n",
      "0          4.104229e+08            17599667.0  2.530102e+12     7060.619946   \n",
      "1          8.033917e+06              744280.0  7.087662e+10     9476.994987   \n",
      "2          1.373719e+08            22838613.0  1.273221e+12    13147.787643   \n",
      "3          2.658151e+09           109788426.0  9.844617e+12     3324.105287   \n",
      "4          2.371814e+09           317815911.0  2.128119e+13     9602.441917   \n",
      "\n",
      "   internet_user_per_100_people   labor_force  mortality_rate           pop  \\\n",
      "0                     34.517375  1.299310e+08       36.764145  3.920223e+08   \n",
      "1                     49.273949  3.228506e+06       19.564959  7.048966e+06   \n",
      "2                     66.928523  4.971221e+07        6.508548  1.033186e+08   \n",
      "3                     23.229306  1.269209e+09       42.144198  3.122703e+09   \n",
      "4                     46.891275  1.259470e+09       17.107285  2.279186e+09   \n",
      "\n",
      "    pop_0-14  pop_15-64    pop_65+     pop_urban  \n",
      "0  33.229003  62.439279   4.331718  2.266739e+08  \n",
      "1  24.053813  67.598451   8.347736  2.972747e+06  \n",
      "2  14.979304  68.049053  16.971643  6.442490e+07  \n",
      "3  29.978071  64.640974   5.380955  1.378308e+09  \n",
      "4  19.678738  70.703221   9.618032  1.277400e+09  \n"
     ]
    }
   ],
   "source": [
    "print(dfu5.shape)\n",
    "print(dfu5.head())"
   ]
  },
  {
   "cell_type": "markdown",
   "metadata": {},
   "source": [
    "###  variable cleaning"
   ]
  },
  {
   "cell_type": "code",
   "execution_count": 178,
   "metadata": {
    "collapsed": true
   },
   "outputs": [],
   "source": [
    "def fx(x,y): return int(x*y/100)"
   ]
  },
  {
   "cell_type": "code",
   "execution_count": 188,
   "metadata": {
    "collapsed": false
   },
   "outputs": [],
   "source": [
    "dfu6 = dfu5.assign(cellular_mobile_subs = dfu5.cellular_mobile_subs.map(lambda x: int(x)),\n",
    "                   fixed_broadband_subs = dfu5.fixed_broadband_subs.map(lambda x: int(x)),\n",
    "                   gdp = dfu5.gdp.map(lambda x: int(x)),\n",
    "                   gni = np.vectorize(fx)(dfu5.gni_per_capita, dfu5['pop']),\n",
    "                   labor_force = dfu5.labor_force.map(lambda x: int(x)),\n",
    "                   pop = dfu5['pop'].map(lambda x: int(x)),\n",
    "                   pop_urban = dfu5.pop_urban.map(lambda x: int(x)),\n",
    "                   pop_0_14 = np.vectorize(fx)(dfu5['pop_0-14'], dfu5['pop']),\n",
    "                   pop_15_64 = np.vectorize(fx)(dfu5['pop_15-64'], dfu5['pop']),\n",
    "                   pop_65_plus = np.vectorize(fx)(dfu5['pop_65+'], dfu5['pop']),\n",
    "                   internet_users = np.vectorize(fx)(dfu5.internet_user_per_100_people, dfu5['pop']),\n",
    "                      )"
   ]
  },
  {
   "cell_type": "code",
   "execution_count": 189,
   "metadata": {
    "collapsed": false
   },
   "outputs": [
    {
     "name": "stdout",
     "output_type": "stream",
     "text": [
      "   index iso_code                         country       date  \\\n",
      "0      0       1A                      Arab World 2015-01-01   \n",
      "1     56       S3          Caribbean small states 2015-01-01   \n",
      "2    112       B8  Central Europe and the Baltics 2015-01-01   \n",
      "3    168       V2      Early-demographic dividend 2015-01-01   \n",
      "4    224       Z4             East Asia & Pacific 2015-01-01   \n",
      "\n",
      "   cellular_mobile_subs  fixed_broadband_subs             gdp  gni_per_capita  \\\n",
      "0             410422908              17599667   2530101503617     7060.619946   \n",
      "1               8033917                744280     70876623388     9476.994987   \n",
      "2             137371883              22838613   1273220514555    13147.787643   \n",
      "3            2658150845             109788426   9844617142362     3324.105287   \n",
      "4            2371814450             317815911  21281190210607     9602.441917   \n",
      "\n",
      "   internet_user_per_100_people  labor_force     ...              pop  \\\n",
      "0                     34.517375    129930989     ...        392022276   \n",
      "1                     49.273949      3228506     ...          7048966   \n",
      "2                     66.928523     49712207     ...        103318638   \n",
      "3                     23.229306   1269209398     ...       3122703317   \n",
      "4                     46.891275   1259470455     ...       2279186469   \n",
      "\n",
      "    pop_0-14  pop_15-64    pop_65+   pop_urban           gni  internet_users  \\\n",
      "0  33.229003  62.439279   4.331718   226673886   27679203012       135315798   \n",
      "1  24.053813  67.598451   8.347736     2972747     668030154         3473303   \n",
      "2  14.979304  68.049053  16.971643    64424905   13584115119        69149638   \n",
      "3  29.978071  64.640974   5.380955  1378307567  103801946064       725382296   \n",
      "4  19.678738  70.703221   9.618032  1277399664  218857556858      1068739595   \n",
      "\n",
      "    pop_0_14   pop_15_64  pop_65_plus  \n",
      "0  130265092   244775884     16981298  \n",
      "1    1695545     4764991       588429  \n",
      "2   15476412    70307354     17534870  \n",
      "3  936126224  2018545827    168031265  \n",
      "4  448515129  1611458257    219212884  \n",
      "\n",
      "[5 rows x 21 columns]\n"
     ]
    }
   ],
   "source": [
    "print(dfu6.head())"
   ]
  },
  {
   "cell_type": "markdown",
   "metadata": {},
   "source": [
    "## Export relevant columns"
   ]
  },
  {
   "cell_type": "code",
   "execution_count": 195,
   "metadata": {
    "collapsed": false
   },
   "outputs": [],
   "source": [
    "dfu7 = dfu6.drop(['internet_user_per_100_people', 'mortality_rate', 'pop_0-14',\n",
    "                  'pop_15-64', 'pop_65+', 'gni_per_capita', 'index', 'date'],\n",
    "                 axis=1)"
   ]
  },
  {
   "cell_type": "code",
   "execution_count": 196,
   "metadata": {
    "collapsed": false
   },
   "outputs": [
    {
     "name": "stdout",
     "output_type": "stream",
     "text": [
      "  iso_code                         country  cellular_mobile_subs  \\\n",
      "0       1A                      Arab World             410422908   \n",
      "1       S3          Caribbean small states               8033917   \n",
      "2       B8  Central Europe and the Baltics             137371883   \n",
      "3       V2      Early-demographic dividend            2658150845   \n",
      "4       Z4             East Asia & Pacific            2371814450   \n",
      "\n",
      "   fixed_broadband_subs             gdp  labor_force         pop   pop_urban  \\\n",
      "0              17599667   2530101503617    129930989   392022276   226673886   \n",
      "1                744280     70876623388      3228506     7048966     2972747   \n",
      "2              22838613   1273220514555     49712207   103318638    64424905   \n",
      "3             109788426   9844617142362   1269209398  3122703317  1378307567   \n",
      "4             317815911  21281190210607   1259470455  2279186469  1277399664   \n",
      "\n",
      "            gni  internet_users   pop_0_14   pop_15_64  pop_65_plus  \n",
      "0   27679203012       135315798  130265092   244775884     16981298  \n",
      "1     668030154         3473303    1695545     4764991       588429  \n",
      "2   13584115119        69149638   15476412    70307354     17534870  \n",
      "3  103801946064       725382296  936126224  2018545827    168031265  \n",
      "4  218857556858      1068739595  448515129  1611458257    219212884  \n"
     ]
    }
   ],
   "source": [
    "print(dfu7.head())"
   ]
  },
  {
   "cell_type": "code",
   "execution_count": 197,
   "metadata": {
    "collapsed": true
   },
   "outputs": [],
   "source": [
    "dfu7.to_csv('wb_data.csv',index=False)"
   ]
  }
 ],
 "metadata": {
  "anaconda-cloud": {},
  "kernelspec": {
   "display_name": "Python [Root]",
   "language": "python",
   "name": "Python [Root]"
  },
  "language_info": {
   "codemirror_mode": {
    "name": "ipython",
    "version": 3
   },
   "file_extension": ".py",
   "mimetype": "text/x-python",
   "name": "python",
   "nbconvert_exporter": "python",
   "pygments_lexer": "ipython3",
   "version": "3.5.2"
  }
 },
 "nbformat": 4,
 "nbformat_minor": 0
}
